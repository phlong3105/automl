{
 "nbformat": 4,
 "nbformat_minor": 0,
 "metadata": {
  "accelerator": "GPU",
  "colab": {
   "name": "tutorial.ipynb",
   "provenance": [],
   "collapsed_sections": [
    "V8-yl-s-WKMG"
   ]
  },
  "kernelspec": {
   "name": "python3",
   "display_name": "Python 3"
  }
 },
 "cells": [
  {
   "cell_type": "markdown",
   "metadata": {
    "id": "V8-yl-s-WKMG"
   },
   "source": [
    "# EfficientNetV2 Tutorial: inference, eval, and training \n",
    "\n",
    "\n",
    "\n",
    "<table align=\"left\"><td>\n",
    "  <a target=\"_blank\"  href=\"https://github.com/google/automl/blob/master/efficientnetv2/tutorial.ipynb\">\n",
    "    <img src=\"https://www.tensorflow.org/images/GitHub-Mark-32px.png\" />View source on github\n",
    "  </a>\n",
    "</td><td>\n",
    "  <a target=\"_blank\"  href=\"https://colab.sandbox.google.com/github/google/automl/blob/master/efficientnetv2/tutorial.ipynb\">\n",
    "    <img width=32px src=\"https://www.tensorflow.org/images/colab_logo_32px.png\" />Run in Google Colab</a>\n",
    "</td></table>"
   ]
  },
  {
   "cell_type": "markdown",
   "metadata": {
    "id": "muwOCNHaq85j"
   },
   "source": [
    "# 0. Install and view graph."
   ]
  },
  {
   "cell_type": "markdown",
   "metadata": {
    "id": "dggLVarNxxvC"
   },
   "source": [
    "## 0.1 Install package and download source code/image.\n",
    "\n"
   ]
  },
  {
   "cell_type": "code",
   "metadata": {
    "id": "hGL97-GXjSUw"
   },
   "source": [
    "%%capture\n",
    "#@title\n",
    "!pip install tensorflow_addons\n",
    "\n",
    "import os\n",
    "import sys\n",
    "import tensorflow.compat.v1 as tf\n",
    "\n",
    "# Download source code.\n",
    "if \"efficientnetv2\" not in os.getcwd():\n",
    "  !git clone --depth 1 https://github.com/google/automl\n",
    "  os.chdir('automl/efficientnetv2')\n",
    "  sys.path.append('.')\n",
    "else:\n",
    "  !git pull\n",
    "\n",
    "def download(m):\n",
    "  if m not in os.listdir():\n",
    "    !wget https://storage.googleapis.com/cloud-tpu-checkpoints/efficientnet/v2/{m}.tgz\n",
    "    !tar zxf {m}.tgz\n",
    "  ckpt_path = os.path.join(os.getcwd(), m)\n",
    "  return ckpt_path"
   ],
   "execution_count": null,
   "outputs": []
  },
  {
   "cell_type": "markdown",
   "metadata": {
    "id": "GvdjcYpUVuQ5"
   },
   "source": [
    "## 0.2 View graph in TensorBoard"
   ]
  },
  {
   "cell_type": "code",
   "metadata": {
    "id": "U2oz3r1LUDzr"
   },
   "source": [
    "MODEL = 'efficientnetv2-b0'  #@param\n",
    "import effnetv2_model\n",
    "\n",
    "with tf.compat.v1.Graph().as_default():\n",
    "  model = effnetv2_model.EffNetV2Model(model_name=MODEL)\n",
    "  _ = model(tf.ones([1, 224, 224, 3]), training=False)\n",
    "  tf.io.gfile.mkdir('tb')\n",
    "  train_writer = tf.summary.FileWriter('tb')\n",
    "  train_writer.add_graph(tf.get_default_graph())\n",
    "  train_writer.flush()\n",
    "\n",
    "%load_ext tensorboard\n",
    "%tensorboard --logdir tb"
   ],
   "execution_count": null,
   "outputs": []
  },
  {
   "cell_type": "markdown",
   "metadata": {
    "id": "vZk2dwOxrGhY"
   },
   "source": [
    "# 1. inference"
   ]
  },
  {
   "cell_type": "code",
   "metadata": {
    "id": "tlh_S6M9ahe5"
   },
   "source": [
    "MODEL = 'efficientnetv2-b0'  #@param\n",
    "\n",
    "# Download checkpoint.\n",
    "ckpt_path = download(MODEL)\n",
    "if tf.io.gfile.isdir(ckpt_path):\n",
    "  ckpt_path = tf.train.latest_checkpoint(ckpt_path)\n",
    "\n",
    "# Download label map file\n",
    "!wget https://storage.googleapis.com/cloud-tpu-checkpoints/efficientnet/eval_data/labels_map.txt -O labels_map.txt\n",
    "labels_map = 'labels_map.txt'\n",
    "\n",
    "# Download images\n",
    "image_file = 'panda.jpg'\n",
    "!wget https://upload.wikimedia.org/wikipedia/commons/f/fe/Giant_Panda_in_Beijing_Zoo_1.JPG -O {image_file}"
   ],
   "execution_count": null,
   "outputs": []
  },
  {
   "cell_type": "code",
   "metadata": {
    "id": "1q2x8s8GpUJz",
    "colab": {
     "base_uri": "https://localhost:8080/",
     "height": 749
    },
    "outputId": "4eedfba8-43ce-41bd-de1c-eb48e0a5995f"
   },
   "source": [
    "# Build model\n",
    "tf.keras.backend.clear_session()\n",
    "model = effnetv2_model.EffNetV2Model(model_name=MODEL)\n",
    "_ = model(tf.ones([1, 224, 224, 3]), training=False)\n",
    "model.load_weights(ckpt_path)\n",
    "cfg = model.cfg\n",
    "\n",
    "# Run inference for a given image\n",
    "import preprocessing\n",
    "image = tf.io.read_file(image_file)\n",
    "image = preprocessing.preprocess_image(\n",
    "    image, cfg.eval.isize, is_training=False, augname=cfg.data.augname)\n",
    "logits = model(tf.expand_dims(image, 0), False)\n",
    "\n",
    "# Output classes and probability\n",
    "pred = tf.keras.layers.Softmax()(logits)\n",
    "idx = tf.argsort(logits[0])[::-1][:5].numpy()\n",
    "import ast\n",
    "classes = ast.literal_eval(open(labels_map, \"r\").read())\n",
    "for i, id in enumerate(idx):\n",
    "  print(f'top {i+1} ({pred[0][id]*100:.1f}%):  {classes[id]} ')\n",
    "from IPython import display\n",
    "display.display(display.Image(image_file))"
   ],
   "execution_count": null,
   "outputs": []
  },
  {
   "cell_type": "markdown",
   "metadata": {
    "id": "RW90fiMiyg4n"
   },
   "source": [
    "# 2. Finetune EfficientNetV2 on CIFAR10."
   ]
  },
  {
   "cell_type": "code",
   "metadata": {
    "id": "6PC6QrMlylOF",
    "colab": {
     "base_uri": "https://localhost:8080/"
    },
    "outputId": "a84f0002-cbad-4bdb-d597-b8b879649199"
   },
   "source": [
    "!python main_tf2.py --mode=traineval  --model_name=efficientnetv2-b0  --dataset_cfg=cifar10Ft --model_dir={MODEL}_finetune --hparam_str=\"train.ft_init_ckpt={MODEL},runtime.strategy=gpus,train.batch_size=64\"\n"
   ],
   "execution_count": null,
   "outputs": []
  }
 ]
}
